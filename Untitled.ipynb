{
 "cells": [
  {
   "cell_type": "code",
   "execution_count": 2,
   "metadata": {},
   "outputs": [
    {
     "name": "stdout",
     "output_type": "stream",
     "text": [
      "(4, 6)\n",
      "(2, 6)\n"
     ]
    }
   ],
   "source": [
    "import numpy as np\n",
    "m1 = np.array([[1,2,3,4,5,6],[4,5,6,7,8,9],[7,8,9,10,11,12],[1,7,3,4,2,5]])\n",
    "m2 = np.array([[9,1,1,2,3,4],[1,7,1,8,3,2]])\n",
    "print(m1.shape)\n",
    "print(m2.shape)"
   ]
  },
  {
   "cell_type": "code",
   "execution_count": 3,
   "metadata": {},
   "outputs": [
    {
     "name": "stdout",
     "output_type": "stream",
     "text": [
      "[[ 9.         11.87434209 17.57839583 10.48808848]\n",
      " [ 8.06225775 10.63014581 16.40121947  5.47722558]]\n"
     ]
    }
   ],
   "source": [
    "dists = np.zeros((m2.shape[0], m1.shape[0]))\n",
    "for i in range(m2.shape[0]):\n",
    "    for j in range(m1.shape[0]):\n",
    "        dists[i,j] = np.sqrt(np.sum(np.square(m1[j,:]- m2[i,:])))\n",
    "print(dists)"
   ]
  },
  {
   "cell_type": "code",
   "execution_count": 4,
   "metadata": {},
   "outputs": [
    {
     "name": "stdout",
     "output_type": "stream",
     "text": [
      "[0 3 1 2]\n"
     ]
    }
   ],
   "source": [
    "indexsort = np.argsort(dists[0,:])\n",
    "print(indexsort)"
   ]
  },
  {
   "cell_type": "code",
   "execution_count": 5,
   "metadata": {},
   "outputs": [
    {
     "name": "stdout",
     "output_type": "stream",
     "text": [
      "[0 3 1]\n"
     ]
    }
   ],
   "source": [
    "sellab = indexsort[:3]\n",
    "y_lab = np.array([0,2,1,3])\n",
    "closest_lab = []\n",
    "print(sellab)"
   ]
  },
  {
   "cell_type": "code",
   "execution_count": 6,
   "metadata": {},
   "outputs": [
    {
     "name": "stdout",
     "output_type": "stream",
     "text": [
      "[0, 3, 2]\n"
     ]
    }
   ],
   "source": [
    "for p in range(3):\n",
    "    closest_lab.append(y_lab[sellab[p]])\n",
    "print(closest_lab)"
   ]
  },
  {
   "cell_type": "code",
   "execution_count": 7,
   "metadata": {},
   "outputs": [
    {
     "name": "stdout",
     "output_type": "stream",
     "text": [
      "[13 22 21 25 26 32]\n"
     ]
    }
   ],
   "source": [
    "sum0 = np.sum(m1,axis=0)\n",
    "print(sum0)"
   ]
  },
  {
   "cell_type": "code",
   "execution_count": 8,
   "metadata": {},
   "outputs": [
    {
     "name": "stdout",
     "output_type": "stream",
     "text": [
      "[21 39 57 22]\n"
     ]
    }
   ],
   "source": [
    "sum1 = np.sum(m1,axis=1)\n",
    "print(sum1)"
   ]
  },
  {
   "cell_type": "code",
   "execution_count": 9,
   "metadata": {},
   "outputs": [
    {
     "name": "stdout",
     "output_type": "stream",
     "text": [
      "[[13 22 21 25 26 32]]\n"
     ]
    }
   ],
   "source": [
    "mat = np.matrix(sum0)\n",
    "print(mat)"
   ]
  },
  {
   "cell_type": "code",
   "execution_count": null,
   "metadata": {},
   "outputs": [],
   "source": []
  }
 ],
 "metadata": {
  "kernelspec": {
   "display_name": "Python 3",
   "language": "python",
   "name": "python3"
  },
  "language_info": {
   "codemirror_mode": {
    "name": "ipython",
    "version": 3
   },
   "file_extension": ".py",
   "mimetype": "text/x-python",
   "name": "python",
   "nbconvert_exporter": "python",
   "pygments_lexer": "ipython3",
   "version": "3.6.4"
  }
 },
 "nbformat": 4,
 "nbformat_minor": 2
}
